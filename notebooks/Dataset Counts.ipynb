{
 "cells": [
  {
   "cell_type": "code",
   "execution_count": 1,
   "metadata": {
    "collapsed": true
   },
   "outputs": [],
   "source": [
    "%matplotlib inline\n",
    "\n",
    "import jsonlines\n",
    "import numpy\n",
    "import matplotlib.pyplot as plt\n",
    "import os\n",
    "import re"
   ]
  },
  {
   "cell_type": "code",
   "execution_count": 2,
   "metadata": {
    "collapsed": true
   },
   "outputs": [],
   "source": [
    "# Change here for your own path\n",
    "input_dirpath = '../../data/echr/scraps'"
   ]
  },
  {
   "cell_type": "code",
   "execution_count": 3,
   "metadata": {
    "collapsed": true
   },
   "outputs": [],
   "source": [
    "def get_input_files(input_dirpath, pattern):\n",
    "    \"\"\"Returns the names of the files in input_dirpath that matches pattern.\"\"\"\n",
    "    all_files = os.listdir(input_dirpath)\n",
    "    for filename in all_files:\n",
    "        if re.match(pattern, filename) and os.path.isfile(os.path.join(\n",
    "                input_dirpath, filename)):\n",
    "            yield os.path.join(input_dirpath, filename)"
   ]
  },
  {
   "cell_type": "code",
   "execution_count": 4,
   "metadata": {
    "collapsed": true
   },
   "outputs": [],
   "source": [
    "# Statistics\n",
    "sentence_number = []\n",
    "word_number = []  # Only separated by split, not properly tokenized."
   ]
  },
  {
   "cell_type": "code",
   "execution_count": 5,
   "metadata": {
    "collapsed": false
   },
   "outputs": [
    {
     "name": "stdout",
     "output_type": "stream",
     "text": [
      "Processing file ../../data/echr/scraps/scraps-0.jl\n",
      "Processing file ../../data/echr/scraps/scraps-1.jl\n"
     ]
    }
   ],
   "source": [
    "for input_filename in get_input_files(input_dirpath, r'.*jl'):\n",
    "    print 'Processing file', input_filename\n",
    "    with jsonlines.open(input_filename) as reader:\n",
    "        for document in reader:\n",
    "            sentence_number.append(len(document['sentences']))\n",
    "            word_number.append([len(sentence.split()) for sentence in document['sentences']])"
   ]
  },
  {
   "cell_type": "code",
   "execution_count": 7,
   "metadata": {
    "collapsed": false,
    "scrolled": true
   },
   "outputs": [
    {
     "name": "stdout",
     "output_type": "stream",
     "text": [
      " Total number of senteneces 1691229\n",
      "Shortest document 4\n",
      "Longest document 3687\n",
      "Average number of sentences per document 157.543455985\n",
      "Standard deviation of number of sentences per document 133.912180372\n"
     ]
    }
   ],
   "source": [
    "print \"Total number of senteneces\", sum(sentence_number)\n",
    "print \"Shortest document\", numpy.min(sentence_number)\n",
    "print \"Longest document\", numpy.max(sentence_number)\n",
    "print \"Average number of sentences per document\", numpy.mean(sentence_number)\n",
    "print \"Standard deviation of number of sentences per document\", numpy.std(sentence_number)"
   ]
  },
  {
   "cell_type": "code",
   "execution_count": 49,
   "metadata": {
    "collapsed": false
   },
   "outputs": [
    {
     "data": {
      "image/png": "[encoded data removed]",
      "text/plain": [
       "<matplotlib.figure.Figure at 0x7f7ff2fc1310>"
      ]
     },
     "metadata": {},
     "output_type": "display_data"
    },
    {
     "name": "stdout",
     "output_type": "stream",
     "text": [
      "Between 4.0 and 96.075: 3580.00 (0.33)\n",
      "Between 96.075 and 188.15: 4459.00 (0.42)\n",
      "Between 188.15 and 280.225: 1649.00 (0.15)\n",
      "Between 280.225 and 372.3: 612.00 (0.06)\n",
      "Between 372.3 and 464.375: 188.00 (0.02)\n",
      "Between 464.375 and 556.45: 90.00 (0.01)\n"
     ]
    }
   ],
   "source": [
    "n, bins, patches = plt.hist(sentence_number, 40)\n",
    "\n",
    "plt.ylabel('Number of documents')\n",
    "plt.xlabel('Number of sentences')\n",
    "plt.show()\n",
    "\n",
    "total = len(sentence_number)\n",
    "for index in range(1, len(bins)):\n",
    "    if n[index-1]/float(total) > 0.005:\n",
    "        print ' '.join(('Between {} and {}:'.format(bins[index-1], bins[index]),\n",
    "                        '{0:.2f}'.format(n[index-1]),\n",
    "                        '({0:.2f})'.format(n[index-1]/float(total))))"
   ]
  },
  {
   "cell_type": "code",
   "execution_count": 9,
   "metadata": {
    "collapsed": false
   },
   "outputs": [
    {
     "name": "stdout",
     "output_type": "stream",
     "text": [
      "Total number of words 71296280\n",
      "Average number of words per document 6641.4792734\n",
      "Standard deviation of number of sentences per document 6636.68282881\n"
     ]
    }
   ],
   "source": [
    "word_number_by_doc = [sum(words_by_sentence) for words_by_sentence in word_number]\n",
    "print \"Total number of words\", sum(word_number_by_doc)\n",
    "print \"Average number of words per document\", numpy.mean(word_number_by_doc)\n",
    "print \"Standard deviation of number of sentences per document\", numpy.std(word_number_by_doc)"
   ]
  },
  {
   "cell_type": "code",
   "execution_count": 50,
   "metadata": {
    "collapsed": false
   },
   "outputs": [
    {
     "data": {
      "image/png": "[encoded data removed]",
      "text/plain": [
       "<matplotlib.figure.Figure at 0x7f7ff2cffe50>"
      ]
     },
     "metadata": {},
     "output_type": "display_data"
    },
    {
     "name": "stdout",
     "output_type": "stream",
     "text": [
      "Between 17.0 and 4496.6: 5030.00 (0.47)\n",
      "Between 4496.6 and 8976.2: 3246.00 (0.30)\n",
      "Between 8976.2 and 13455.8: 1411.00 (0.13)\n",
      "Between 13455.8 and 17935.4: 527.00 (0.05)\n",
      "Between 17935.4 and 22415.0: 244.00 (0.02)\n",
      "Between 22415.0 and 26894.6: 108.00 (0.01)\n",
      "Between 26894.6 and 31374.2: 68.00 (0.01)\n"
     ]
    }
   ],
   "source": [
    "n, bins, patches = plt.hist(word_number_by_doc, 40)\n",
    "\n",
    "plt.ylabel('Number of documents')\n",
    "plt.xlabel('Number of words')\n",
    "plt.show()\n",
    "\n",
    "total = len(sentence_number)\n",
    "for index in range(1, len(bins)):\n",
    "    if n[index-1]/float(total) > 0.005:\n",
    "        print ' '.join(('Between {} and {}:'.format(bins[index-1], bins[index]),\n",
    "                        '{0:.2f}'.format(n[index-1]),\n",
    "                        '({0:.2f})'.format(n[index-1]/float(total))))"
   ]
  },
  {
   "cell_type": "code",
   "execution_count": null,
   "metadata": {
    "collapsed": true
   },
   "outputs": [],
   "source": []
  }
 ],
 "metadata": {
  "kernelspec": {
   "display_name": "Python 2",
   "language": "python",
   "name": "python2"
  },
  "language_info": {
   "codemirror_mode": {
    "name": "ipython",
    "version": 2
   },
   "file_extension": ".py",
   "mimetype": "text/x-python",
   "name": "python",
   "nbconvert_exporter": "python",
   "pygments_lexer": "ipython2",
   "version": "2.7.6"
  }
 },
 "nbformat": 4,
 "nbformat_minor": 0
}
